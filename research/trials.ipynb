{
 "cells": [
  {
   "cell_type": "code",
   "execution_count": 1,
   "metadata": {},
   "outputs": [],
   "source": [
    "import gdown"
   ]
  },
  {
   "cell_type": "code",
   "execution_count": 2,
   "metadata": {},
   "outputs": [],
   "source": [
    "url =  \"https://drive.google.com/file/d/1sCtMkl_HYwhw95D_hM3--f-y6R04q1Aq/view?usp=sharing\""
   ]
  },
  {
   "cell_type": "code",
   "execution_count": 5,
   "metadata": {},
   "outputs": [
    {
     "data": {
      "text/plain": [
       "'1sCtMkl_HYwhw95D_hM3--f-y6R04q1Aq'"
      ]
     },
     "execution_count": 5,
     "metadata": {},
     "output_type": "execute_result"
    }
   ],
   "source": [
    "file_id = url.split('/')[-2]\n",
    "file_id"
   ]
  },
  {
   "cell_type": "code",
   "execution_count": 8,
   "metadata": {},
   "outputs": [
    {
     "name": "stderr",
     "output_type": "stream",
     "text": [
      "Downloading...\n",
      "From (original): https://drive.google.com/uc?/export=download&id=1sCtMkl_HYwhw95D_hM3--f-y6R04q1Aq\n",
      "From (redirected): https://drive.google.com/uc?%2Fexport=download&id=1sCtMkl_HYwhw95D_hM3--f-y6R04q1Aq&confirm=t&uuid=396afe59-7ebf-4c55-a67c-115032fd78c1\n",
      "To: /home/deltan/Documents/mlflow/Chest-cancer-classification-MLOps/research/chest_CT_data.zip\n",
      "100%|██████████| 124M/124M [00:31<00:00, 3.90MB/s] \n"
     ]
    },
    {
     "data": {
      "text/plain": [
       "'chest_CT_data.zip'"
      ]
     },
     "execution_count": 8,
     "metadata": {},
     "output_type": "execute_result"
    }
   ],
   "source": [
    "prefix = 'https://drive.google.com/uc?/export=download&id='\n",
    "download_link = prefix + file_id\n",
    "\n",
    "gdown.download(download_link, \"chest_CT_data.zip\")"
   ]
  }
 ],
 "metadata": {
  "kernelspec": {
   "display_name": "chestCancer",
   "language": "python",
   "name": "python3"
  },
  "language_info": {
   "codemirror_mode": {
    "name": "ipython",
    "version": 3
   },
   "file_extension": ".py",
   "mimetype": "text/x-python",
   "name": "python",
   "nbconvert_exporter": "python",
   "pygments_lexer": "ipython3",
   "version": "3.8.19"
  },
  "orig_nbformat": 4
 },
 "nbformat": 4,
 "nbformat_minor": 2
}
